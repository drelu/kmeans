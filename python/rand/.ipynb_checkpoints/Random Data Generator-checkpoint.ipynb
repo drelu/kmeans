{
 "metadata": {
  "name": ""
 },
 "nbformat": 3,
 "nbformat_minor": 0,
 "worksheets": [
  {
   "cells": [
    {
     "cell_type": "code",
     "collapsed": false,
     "input": [
      "import numpy as np\n",
      "import matplotlib.pyplot as plt\n",
      "\n",
      "plt.show()\n",
      "\n",
      "''' Create two sets of random numbers with the same seed(1234567) and plot them on top of each other. As identical sets of random numbers are created with identical seeds, you will get two plots exactly on top of each other.'''\n",
      "np.random.seed(seed=1234567)                                            #set the seed of the random number generator to 1234567\n",
      "Base = 110 + 30* np.random.rand(42000)         "
     ],
     "language": "python",
     "metadata": {},
     "outputs": [],
     "prompt_number": 2
    },
    {
     "cell_type": "code",
     "collapsed": false,
     "input": [
      "centers = 10*np.random.rand(4, 2)\n",
      "centers"
     ],
     "language": "python",
     "metadata": {},
     "outputs": [
      {
       "metadata": {},
       "output_type": "pyout",
       "prompt_number": 10,
       "text": [
        "array([[ 8.01014217,  9.33354091],\n",
        "       [ 4.54724589,  9.80458923],\n",
        "       [ 1.18547416,  7.76209821],\n",
        "       [ 9.65489444,  0.92866546]])"
       ]
      }
     ],
     "prompt_number": 10
    },
    {
     "cell_type": "code",
     "collapsed": false,
     "input": [
      "Base\n"
     ],
     "language": "python",
     "metadata": {},
     "outputs": [
      {
       "metadata": {},
       "output_type": "pyout",
       "prompt_number": 5,
       "text": [
        "array([ 117.11087505,  110.22945122,  110.59490925, ...,  117.34085492,\n",
        "        138.72156377,  117.25522386])"
       ]
      }
     ],
     "prompt_number": 5
    }
   ],
   "metadata": {}
  }
 ]
}